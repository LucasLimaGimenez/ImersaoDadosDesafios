{
  "nbformat": 4,
  "nbformat_minor": 0,
  "metadata": {
    "colab": {
      "name": "Dia01ImersãoDados.ipynb",
      "provenance": [],
      "collapsed_sections": []
    },
    "kernelspec": {
      "name": "python3",
      "display_name": "Python 3"
    },
    "language_info": {
      "name": "python"
    }
  },
  "cells": [
    {
      "cell_type": "markdown",
      "metadata": {
        "id": "VtdepJWNqQqj"
      },
      "source": [
        "#Importando tabelas e iniciando a análise de dados utilizando pandas"
      ]
    },
    {
      "cell_type": "code",
      "metadata": {
        "id": "x-ewunRkhiRN"
      },
      "source": [
        "import pandas as pd #utilizar a biblioteca de análise de dados\n",
        "\n",
        "#url que serve para pegar o documento a ser analisado\n",
        "url_dados = \"https://github.com/alura-cursos/imersaodados3/blob/main/dados/dados_experimentos.zip?raw=true\"\n",
        "dados = pd.read_csv(url_dados, compression = \"zip\") #momento em que acontece a leitura do documento csv\n",
        "display(dados) #mostra a tabela para nossa visualização\n"
      ],
      "execution_count": null,
      "outputs": []
    },
    {
      "cell_type": "markdown",
      "metadata": {
        "id": "damnGLLI_JDF"
      },
      "source": [
        "#Códigos comentados"
      ]
    },
    {
      "cell_type": "code",
      "metadata": {
        "id": "wJ69yoEflvPL"
      },
      "source": [
        "#serve para pegar as apenas as 5 linhas iniciais da tabela\n",
        "dados.head()"
      ],
      "execution_count": null,
      "outputs": []
    },
    {
      "cell_type": "code",
      "metadata": {
        "id": "wM0LRdl7mItM"
      },
      "source": [
        "#serve para saber o tamanho de linhas e colunas\n",
        "dados.shape"
      ],
      "execution_count": null,
      "outputs": []
    },
    {
      "cell_type": "code",
      "metadata": {
        "id": "TtevxGA5mPIc"
      },
      "source": [
        "dados[\"tratamento\"] #mostra apenas os dados da coluna nesse caso coluna tratamento"
      ],
      "execution_count": null,
      "outputs": []
    },
    {
      "cell_type": "code",
      "metadata": {
        "id": "_AmWxJyvmpVI"
      },
      "source": [
        "dados[\"tratamento\"].unique() #mostra as categorias/valores unicos da coluna"
      ],
      "execution_count": null,
      "outputs": []
    },
    {
      "cell_type": "code",
      "metadata": {
        "id": "mJT-dYomm2A9"
      },
      "source": [
        "dados[\"tempo\"].unique() #mostra os valores que aparecem nesse caso as horas usadas para cada tratamento"
      ],
      "execution_count": null,
      "outputs": []
    },
    {
      "cell_type": "code",
      "metadata": {
        "id": "j4KnLjpvn6uk"
      },
      "source": [
        "dados[\"dose\"].unique() #mostra as categorias que aparecem dentro da coluna dose"
      ],
      "execution_count": null,
      "outputs": []
    },
    {
      "cell_type": "code",
      "metadata": {
        "id": "FX0iTJTxoKBy"
      },
      "source": [
        "dados[\"droga\"].unique() #mostra todos os tipos de droga existente na tabela nesse caso os dados estão criptografados"
      ],
      "execution_count": null,
      "outputs": []
    },
    {
      "cell_type": "code",
      "metadata": {
        "id": "CEt6INfBoTXy",
        "colab": {
          "base_uri": "https://localhost:8080/"
        },
        "outputId": "7ddeed7f-8ce5-4b5e-e921-c44bd9ac6e3c"
      },
      "source": [
        " dados[\"g-0\"].unique() #valores utilizados na coluna g-0"
      ],
      "execution_count": null,
      "outputs": [
        {
          "output_type": "execute_result",
          "data": {
            "text/plain": [
              "array([ 1.062 ,  0.0743,  0.628 , ...,  0.3942,  0.666 , -0.8598])"
            ]
          },
          "metadata": {
            "tags": []
          },
          "execution_count": 16
        }
      ]
    },
    {
      "cell_type": "code",
      "metadata": {
        "id": "uSk8fJXsqzCZ"
      },
      "source": [
        "dados[\"tratamento\"].value_counts() #mostra a quantidade de vezes que aparece cada valor"
      ],
      "execution_count": null,
      "outputs": []
    },
    {
      "cell_type": "code",
      "metadata": {
        "id": "_h3IKc7P0Mtm"
      },
      "source": [
        "dados['dose'].value_counts(normalize = True) #mostra o valor com 0, a esquerda"
      ],
      "execution_count": null,
      "outputs": []
    },
    {
      "cell_type": "markdown",
      "metadata": {
        "id": "3YBrkBEHp_1x"
      },
      "source": [
        "#Inicio Formação de tabelas"
      ]
    },
    {
      "cell_type": "code",
      "metadata": {
        "id": "duduE6XM0TDi"
      },
      "source": [
        "dados[\"tratamento\"].value_counts().plot.pie() #gera uma tabela em formato de pizza com os dados tratamento"
      ],
      "execution_count": null,
      "outputs": []
    },
    {
      "cell_type": "code",
      "metadata": {
        "id": "boucujnZ0pIp"
      },
      "source": [
        "dados[\"tempo\"].value_counts().plot.pie() #gera uma tabela de formato de pizza com os dados do tempo"
      ],
      "execution_count": null,
      "outputs": []
    },
    {
      "cell_type": "code",
      "metadata": {
        "id": "6SixrKIN2eGn"
      },
      "source": [
        "dados[\"tempo\"].value_counts().plot.bar() #gera uma tabela em formato de barras com os dados do tempo"
      ],
      "execution_count": null,
      "outputs": []
    },
    {
      "cell_type": "code",
      "metadata": {
        "id": "vgHHF1bp2lUG"
      },
      "source": [
        "dados_filtrados = dados[dados[\"g-0\"] > 0 ] #mostra apenas os valores de g-0 que possuem valor maior que 0\n",
        "dados_filtrados.head() #mostra os 5 primeiros valores g-0 que são maiores que 0. "
      ],
      "execution_count": null,
      "outputs": []
    },
    {
      "cell_type": "markdown",
      "metadata": {
        "id": "j-0seWs8umS5"
      },
      "source": [
        "#Desafio 1 - Investigar a classe tratamento\n",
        "\n",
        "\n",
        "\n"
      ]
    },
    {
      "cell_type": "code",
      "metadata": {
        "id": "IjhSy2-uyeJS"
      },
      "source": [
        "dados_Controle = dados[dados[\"tratamento\"]==\"com_controle\"] #mostra todos os dados da coluna Tratamento que esteja com o valor com controle\n",
        "display(dados_Controle)"
      ],
      "execution_count": null,
      "outputs": []
    },
    {
      "cell_type": "code",
      "metadata": {
        "colab": {
          "base_uri": "https://localhost:8080/"
        },
        "id": "N8LSvLoCzDw2",
        "outputId": "2270a40a-a202-4c06-9d48-44192eb58f0e"
      },
      "source": [
        "dados_Controle[\"droga\"].unique() #mostra os valores usados em drogas com controle"
      ],
      "execution_count": 22,
      "outputs": [
        {
          "output_type": "execute_result",
          "data": {
            "text/plain": [
              "array(['cacb2b860'], dtype=object)"
            ]
          },
          "metadata": {
            "tags": []
          },
          "execution_count": 22
        }
      ]
    },
    {
      "cell_type": "code",
      "metadata": {
        "colab": {
          "base_uri": "https://localhost:8080/"
        },
        "id": "EZ7ZLJC8zcv9",
        "outputId": "9d982364-4a61-4c10-a7cb-217e398188e9"
      },
      "source": [
        "dados[\"droga\"].value_counts(normalize = True)[\"cacb2b860\"] * 100\n"
      ],
      "execution_count": 27,
      "outputs": [
        {
          "output_type": "execute_result",
          "data": {
            "text/plain": [
              "7.835726883345931"
            ]
          },
          "metadata": {
            "tags": []
          },
          "execution_count": 27
        }
      ]
    },
    {
      "cell_type": "code",
      "metadata": {
        "id": "2bkIGCWI0Y1_"
      },
      "source": [
        "dados[\"tratamento\"].value_counts(normalize = True)[\"com_controle\"] * 100"
      ],
      "execution_count": null,
      "outputs": []
    },
    {
      "cell_type": "markdown",
      "metadata": {
        "id": "2zGSoA_20oph"
      },
      "source": [
        "#Resposta\n",
        "\n",
        "Observa-se que o tratamento quando se refere a tratamento com controle utiliza apenas um tipo de droga sendo ela a \"cacb2b860\", sendo um total de 7,83% da quantidade total de drogas analisadas.\n"
      ]
    },
    {
      "cell_type": "markdown",
      "metadata": {
        "id": "dWbbQ9hAv3FN"
      },
      "source": [
        "#Desafio 2 - Plotar as 5 ultimas linhas da tabela\n"
      ]
    },
    {
      "cell_type": "code",
      "metadata": {
        "id": "kNFZ_eHCv7il"
      },
      "source": [
        "dados.tail() #mostra as ultimas 5 linhas da tabela"
      ],
      "execution_count": null,
      "outputs": []
    },
    {
      "cell_type": "markdown",
      "metadata": {
        "id": "jkizjKgPwRAz"
      },
      "source": [
        "#Desafio 3 - Proporção das classes tratamento"
      ]
    },
    {
      "cell_type": "code",
      "metadata": {
        "id": "GNVHTDwLwSi5"
      },
      "source": [
        "#Utilizando variáveis para captar os valores\n",
        "perc_tratamento = dados[\"tratamento\"].value_counts(normalize = True)\n",
        "resultado = perc_tratamento * 100\n",
        "print(round(resultado,2)) \n",
        "#transforma em porcentagem com 2 casas decimais"
      ],
      "execution_count": null,
      "outputs": []
    },
    {
      "cell_type": "markdown",
      "metadata": {
        "id": "CZFKIAVv1Bg2"
      },
      "source": [
        "#Desafio 4 - Quantos tipos de droga foram investigados\n",
        "\n"
      ]
    },
    {
      "cell_type": "code",
      "metadata": {
        "id": "LZmvNPT81Ijo"
      },
      "source": [
        "total_drogas = len(dados[\"droga\"].unique())\n",
        "print(\"Total de drogas analisadas foi de: \",total_drogas)"
      ],
      "execution_count": null,
      "outputs": []
    },
    {
      "cell_type": "markdown",
      "metadata": {
        "id": "k4C97y_M5AdH"
      },
      "source": [
        "#Desafio 5 - Procurar na documentação o método query(pandas)\n"
      ]
    },
    {
      "cell_type": "code",
      "metadata": {
        "id": "07aCdXVT5H1Q"
      },
      "source": [
        "dados.query('tempo == 48 & dose==\"D1\" ').head(10) #serve para consultar e filtrar os dados"
      ],
      "execution_count": null,
      "outputs": []
    },
    {
      "cell_type": "markdown",
      "metadata": {
        "id": "ERUcTz0V5Db6"
      },
      "source": [
        "#Desafio 6 - Renomear as colunas tirando o hífen\n"
      ]
    },
    {
      "cell_type": "code",
      "metadata": {
        "id": "4zYFhMb85IP_"
      },
      "source": [
        "dados.columns = [x.replace('-', '') for x in dados.columns] # Retirou todos os hífens dos titulos das colunas\n",
        "display(dados.head())"
      ],
      "execution_count": null,
      "outputs": []
    },
    {
      "cell_type": "markdown",
      "metadata": {
        "id": "A0pqd5sb5m9A"
      },
      "source": [
        "#Desafio 7 - Arrumar e deixar mais bonito os gráficos(Matplotlib.pyplot)\n"
      ]
    },
    {
      "cell_type": "code",
      "metadata": {
        "id": "dscS_dRg5mh5"
      },
      "source": [
        "import matplotlib.pyplot as plt\n",
        "\n",
        "dados[\"tratamento\"].value_counts().plot.bar() #gera o gráfico de tabelas sem suas propriedades\n",
        "plot.title(\"Tipos de tratamento da pesquisa - Modelo Barra\") #titulo da tabela\n",
        "plot.xlabel(\"Tratamentos\") #propriedade da tabela localizada na linha x\n",
        "plot.ylabel(\"Contagem\") #propriedade da tabela localizada na linha y\n"
      ],
      "execution_count": null,
      "outputs": []
    },
    {
      "cell_type": "code",
      "metadata": {
        "id": "Zan0iaWW66ey"
      },
      "source": [
        "import matplotlib.pyplot as plt\n",
        "\n",
        "dados[\"tempo\"].value_counts().plot.bar() \n",
        "plt.title(\"Quantidade de horas pelo numero de tratamentos\")\n",
        "plt.xlabel(\"Quantidade de horas\")\n",
        "plt.ylabel(\"Contagem\")\n"
      ],
      "execution_count": null,
      "outputs": []
    },
    {
      "cell_type": "code",
      "metadata": {
        "id": "cyPn5dRa8O01"
      },
      "source": [
        "import matplotlib.pyplot as plt\n",
        "\n",
        "dados[\"dose\"].value_counts().plot.bar()\n",
        "plt.title(\"Quantidade de doses de cada tratamento\")\n",
        "plt.xlabel(\"Quantidade de doses\")\n",
        "plt.ylabel(\"Contagem\")\n",
        "\n"
      ],
      "execution_count": null,
      "outputs": []
    },
    {
      "cell_type": "markdown",
      "metadata": {
        "id": "0i5FLPzj68Nk"
      },
      "source": [
        "#Desafio 8 - Resumo do que foi aprendido com os dados"
      ]
    },
    {
      "cell_type": "markdown",
      "metadata": {
        "id": "GAyGfW9G9qL2"
      },
      "source": [
        "CADA CÓDIGO TEM UM COMENTÁRIO PARA FACILITAR O ENTENDIMENTO\n"
      ]
    },
    {
      "cell_type": "markdown",
      "metadata": {
        "id": "bkIHlf8r2YRj"
      },
      "source": [
        "#FIM DO DESAFIO\n"
      ]
    }
  ]
}